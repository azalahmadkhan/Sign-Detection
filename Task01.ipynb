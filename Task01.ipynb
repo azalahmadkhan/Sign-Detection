{
 "cells": [
  {
   "cell_type": "code",
   "execution_count": 1,
   "id": "21a10d99",
   "metadata": {},
   "outputs": [
    {
     "name": "stdout",
     "output_type": "stream",
     "text": [
      "\u001b[33mDEPRECATION: Configuring installation scheme with distutils config files is deprecated and will no longer work in the near future. If you are using a Homebrew or Linuxbrew Python, please see discussion at https://github.com/Homebrew/homebrew-core/issues/76621\u001b[0m\r\n",
      "Requirement already satisfied: Pillow in /usr/local/lib/python3.9/site-packages (8.2.0)\r\n"
     ]
    }
   ],
   "source": [
    "!pip install Pillow"
   ]
  },
  {
   "cell_type": "code",
   "execution_count": 4,
   "id": "dbaf7474",
   "metadata": {},
   "outputs": [],
   "source": [
    "from PIL import Image, ImageFilter"
   ]
  },
  {
   "cell_type": "code",
   "execution_count": 5,
   "id": "6e825c80",
   "metadata": {},
   "outputs": [
    {
     "name": "stdout",
     "output_type": "stream",
     "text": [
      "[Errno 2] No such file or directory: 'Downloads'\n",
      "/Users/admin/Downloads\n"
     ]
    }
   ],
   "source": [
    "cd Downloads"
   ]
  },
  {
   "cell_type": "code",
   "execution_count": 6,
   "id": "6b58a028",
   "metadata": {},
   "outputs": [],
   "source": [
    "Original_Image = Image.open(r\"Task01.jpg\")"
   ]
  },
  {
   "cell_type": "code",
   "execution_count": 7,
   "id": "e52ae49e",
   "metadata": {},
   "outputs": [],
   "source": [
    "Original_Image.show()"
   ]
  },
  {
   "cell_type": "code",
   "execution_count": 8,
   "id": "2aa383a7",
   "metadata": {},
   "outputs": [],
   "source": [
    "def My_Edge_Filter(Original_Image):\n",
    "\n",
    "    Original_Image=Original_Image.convert(\"L\")\n",
    "    \n",
    "    New_Image=Original_Image.filter(ImageFilter.Kernel((3, 3), (-1, -1, -1, -1, 8, -1, -1, -1, -1), 1, 0))\n",
    "    \n",
    "    return New_Image"
   ]
  },
  {
   "cell_type": "code",
   "execution_count": 9,
   "id": "1ce84200",
   "metadata": {},
   "outputs": [],
   "source": [
    "New_Image = My_Edge_Filter(Original_Image)"
   ]
  },
  {
   "cell_type": "code",
   "execution_count": 10,
   "id": "ccb77180",
   "metadata": {},
   "outputs": [],
   "source": [
    "New_Image.show()"
   ]
  },
  {
   "cell_type": "code",
   "execution_count": 13,
   "id": "f9cccb42",
   "metadata": {},
   "outputs": [],
   "source": [
    "New_Image=New_Image.save(\"Task01Ans.jpg\")"
   ]
  },
  {
   "cell_type": "code",
   "execution_count": null,
   "id": "9522095a",
   "metadata": {},
   "outputs": [],
   "source": []
  }
 ],
 "metadata": {
  "kernelspec": {
   "display_name": "Python 3",
   "language": "python",
   "name": "python3"
  },
  "language_info": {
   "codemirror_mode": {
    "name": "ipython",
    "version": 3
   },
   "file_extension": ".py",
   "mimetype": "text/x-python",
   "name": "python",
   "nbconvert_exporter": "python",
   "pygments_lexer": "ipython3",
   "version": "3.9.5"
  }
 },
 "nbformat": 4,
 "nbformat_minor": 5
}
